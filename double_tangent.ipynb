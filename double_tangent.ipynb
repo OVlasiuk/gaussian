{
 "cells": [
  {
   "cell_type": "markdown",
   "metadata": {},
   "source": [
    "# Definitions and imports"
   ]
  },
  {
   "cell_type": "markdown",
   "metadata": {},
   "source": [
    "## Imports"
   ]
  },
  {
   "cell_type": "code",
   "execution_count": null,
   "metadata": {},
   "outputs": [],
   "source": [
    "# \n",
    "# Generic; file access\n",
    "# import os as os\n",
    "# from __future__ import division\n",
    "# \n",
    "# Computational libs\n",
    "import numpy as np\n",
    "# from scipy.linalg import norm\n",
    "# from scipy import linspace\n",
    "#\n",
    "# Pycuda\n",
    "import pycuda.autoinit\n",
    "import pycuda.driver as drv\n",
    "from pycuda.compiler import SourceModule\n",
    "from pycuda.gpuarray import to_gpu\n",
    "# \n",
    "# Minimizers\n",
    "# import nlopt\n",
    "from ipopt import minimize_ipopt\n",
    "from scipy.optimize import minimize\n",
    "#\n",
    "# Graphing utilities\n",
    "import matplotlib.pyplot as plt\n",
    "from mpl_toolkits.mplot3d import Axes3D\n",
    "\n",
    "# from autograd import grad\n",
    "# import autograd.numpy as np\n",
    "# from numba import jit, float64, uint8, prange"
   ]
  },
  {
   "cell_type": "markdown",
   "metadata": {},
   "source": [
    "---"
   ]
  },
  {
   "cell_type": "markdown",
   "metadata": {},
   "source": [
    "## Plotting routine"
   ]
  },
  {
   "cell_type": "code",
   "execution_count": null,
   "metadata": {},
   "outputs": [],
   "source": [
    "def pplot(x,dim):\n",
    "    X3 = x.reshape((-1,dim))\n",
    "    %matplotlib notebook\n",
    "    r = 1\n",
    "    coeff = .94\n",
    "    # phi, theta = nmp.mgrid[0.0:nmp.pi:50j, 0.0:2.0*nmp.pi:50j]\n",
    "    # x = r*nmp.sin(phi)*nmp.cos(theta)\n",
    "    # y = r*nmp.sin(phi)*nmp.sin(theta)\n",
    "    # z = r*nmp.cos(phi)\n",
    "    #Set colors and render\n",
    "    fig = plt.figure()\n",
    "    ax = fig.add_subplot(111, projection='3d')\n",
    "\n",
    "    # ax.plot_wireframe(coeff*x, coeff*y, coeff*z,  rstride=4, cstride=4,  color=\"blue\", alpha=0.3,linewidth=1)\n",
    "    # ax.plot_surface(coeff*x, coeff*y, coeff*z,  rstride=4, cstride=4, color='lightgray', alpha=0.9, linewidth=.3)\n",
    "\n",
    "    ax.scatter(X3[:,0],X3[:,1],X3[:,2], marker='o', color='red')\n",
    "\n",
    "    ax.set_xlim([0,1])\n",
    "    ax.set_ylim([0,1])\n",
    "    ax.set_zlim([0,1])\n",
    "    ax.set_aspect(\"equal\")\n",
    "    plt.tight_layout()\n",
    "    plt.show()"
   ]
  },
  {
   "cell_type": "markdown",
   "metadata": {},
   "source": [
    "## Define energy and verify gradient"
   ]
  },
  {
   "cell_type": "markdown",
   "metadata": {},
   "source": [
    "$$ E(X) = \\sum_{i,j} e^{-C\\| x_i - x_j\\|^2} = \\sum_{i,j} \\exp\\left(- C\\left[ (x_i^1 - x_j^1)^2 + (x_i^2 - x_j^2)^2 + (x_i^3 - x_j^3)^2 \\right]\\right) $$\n",
    "$$ \\frac{\\partial E}{\\partial x_i^l}  = \\sum_{j} -2 C(x_i^l - x_j^l) \\cdot \\exp\\left(-C\\| x_i - x_j\\|^2\\right)  $$"
   ]
  },
  {
   "cell_type": "code",
   "execution_count": null,
   "metadata": {
    "code_folding": []
   },
   "outputs": [],
   "source": [
    "def gaussian(X, grad, C, dim):\n",
    "        en_all = 0;\n",
    "        for l in range(dim):\n",
    "            en_all = en_all - C*(X.reshape((-1, dim))[:,l][None,:] - X.reshape((-1, dim))[:,l][:,None])**2.\n",
    "        en_all = np.exp(en_all)\n",
    "        for l in range(dim):\n",
    "            grad.reshape((-1, dim))[:,l] = -C * 2. * np.sum(\n",
    "                en_all*(-2*(\n",
    "                X.reshape((-1, dim))[:,l][None,:] - X.reshape((-1, dim))[:,l][:,None]\n",
    "            ))\n",
    "                                                  , 1)\n",
    "        return en_all.sum()\n",
    "\n",
    "def sph2cart(phitheta):\n",
    "    return np.array([cos(phitheta[0])*sin(phitheta[1]), sin(phitheta[0])*sin(phitheta[1]), cos(phitheta[1])])\n"
   ]
  },
  {
   "cell_type": "code",
   "execution_count": null,
   "metadata": {},
   "outputs": [],
   "source": [
    "# SciPy is somewhat different in terms of function/gradient calls\n",
    "def gaussian_scp(X, C, dim):\n",
    "    en_all = 0;\n",
    "    for l in range(dim):\n",
    "        en_all = en_all - C*(X.reshape((-1, dim))[:,l][None,:] - X.reshape((-1, dim))[:,l][:,None])**2.\n",
    "    en_all = np.exp(en_all)\n",
    "    return en_all.sum()\n",
    "def gaussian_scp_grad(X, C, dim):\n",
    "    grad = np.zeros_like(X)\n",
    "    en_all = 0;\n",
    "    for l in range(dim):\n",
    "        en_all = en_all - C*(X.reshape((-1, dim))[:,l][None,:] - X.reshape((-1, dim))[:,l][:,None])**2.\n",
    "    en_all = np.exp(en_all)\n",
    "    for l in range(dim):\n",
    "        grad.reshape((-1, dim))[:,l] = C * 2. * np.sum(\n",
    "            en_all*(-2*(\n",
    "            X.reshape((-1, dim))[:,l][None,:] - X.reshape((-1, dim))[:,l][:,None]\n",
    "        ))\n",
    "                                              , 1)\n",
    "    return -grad"
   ]
  },
  {
   "cell_type": "markdown",
   "metadata": {},
   "source": [
    "scipy.optimize.check_grad returns the **error magnitude**"
   ]
  },
  {
   "cell_type": "code",
   "execution_count": null,
   "metadata": {},
   "outputs": [],
   "source": [
    "from scipy.optimize import check_grad"
   ]
  },
  {
   "cell_type": "code",
   "execution_count": null,
   "metadata": {},
   "outputs": [],
   "source": [
    "C = 2.\n",
    "dim =3"
   ]
  },
  {
   "cell_type": "code",
   "execution_count": null,
   "metadata": {},
   "outputs": [],
   "source": [
    "def ffunc(x):\n",
    "    return gaussian(x,np.zeros_like(x), C, dim)\n",
    "def fgrad(x):\n",
    "    v = np.zeros_like(x) \n",
    "    gaussian(x,v, C, dim)\n",
    "    return v\n",
    "    \n",
    "u = np.random.randn(30)\n",
    "(check_grad(lambda X: gaussian_scp(X, C, dim),lambda X:  gaussian_scp_grad(X,C,dim), u),\n",
    "check_grad(ffunc,fgrad, u))"
   ]
  },
  {
   "cell_type": "markdown",
   "metadata": {},
   "source": [
    "---"
   ]
  },
  {
   "cell_type": "markdown",
   "metadata": {},
   "source": [
    "# PyCuda"
   ]
  },
  {
   "cell_type": "code",
   "execution_count": null,
   "metadata": {},
   "outputs": [],
   "source": [
    "modE = SourceModule(\"\"\"\n",
    "#define DIM 3\n",
    "#define BLOCK_SIZE 256 \n",
    "//typedef struct { double x, y, z, e; } Body;\n",
    "\n",
    "__global__                                                           \n",
    "void energy(double *pt, double3 *p, double* c, int n) {                          \n",
    "    const int i = blockDim.x * blockIdx.x + threadIdx.x;\n",
    "     if (i < n) {\n",
    "        double S = 0.0;\n",
    "\n",
    "        for (int j = 0; j < n; j++) {\n",
    "            double dx = p[j].x - p[i].x;\n",
    "            double dy = p[j].y - p[i].y;\n",
    "            double dz = p[j].z - p[i].z;\n",
    "            double distSqr = dx*dx + dy*dy + dz*dz;\n",
    "\n",
    "            S += exp(- *c *distSqr);\n",
    "        }\n",
    "        pt[i] = S;\n",
    "    }\n",
    "}                                                                  \n",
    "\"\"\")\n",
    "\n",
    "modG = SourceModule(\"\"\"\n",
    "#define DIM 3\n",
    "\n",
    "//typedef struct { double x, y, z, e;  } Body;\n",
    "\n",
    "__global__                                                           \n",
    "void gradient(double3* grad, double3 *p, double* c, int n) {                          \n",
    "    const int i = blockDim.x * blockIdx.x + threadIdx.x;\n",
    "    if (i < n) {\n",
    "    double Sx = 0.0;\n",
    "    double Sy = 0.0;\n",
    "    double Sz = 0.0;\n",
    "\n",
    "    for (int j = 0; j < n; j++) {\n",
    "      double dx = p[j].x - p[i].x;\n",
    "      double dy = p[j].y - p[i].y;\n",
    "      double dz = p[j].z - p[i].z;\n",
    "      double S = exp(- *c *(dx*dx + dy*dy + dz*dz));\n",
    "\n",
    "      Sx += 4.0* *c *dx*S;\n",
    "      Sy += 4.0* *c *dy*S;\n",
    "      Sz += 4.0* *c *dz*S;\n",
    "    }\n",
    "    \n",
    "    grad[i].x = Sx;\n",
    "    grad[i].y = Sy;\n",
    "    grad[i].z = Sz;\n",
    "  }\n",
    "}                                                                  \n",
    "\"\"\")\n",
    "energy = modE.get_function(\"energy\")\n",
    "gradient = modG.get_function(\"gradient\")"
   ]
  },
  {
   "cell_type": "code",
   "execution_count": null,
   "metadata": {},
   "outputs": [],
   "source": [
    "c = 30\n",
    "n = 10000\n",
    "dim = 3"
   ]
  },
  {
   "cell_type": "code",
   "execution_count": null,
   "metadata": {},
   "outputs": [],
   "source": [
    "c = c * np.ones(1, dtype='float64')\n",
    "n = n*np.ones(1,dtype='uint32')\n",
    "c_dev = to_gpu(c)\n",
    "n_dev = to_gpu(n)\n",
    "\n",
    "cnf = np.random.random(dim*n)\n",
    "pt = np.zeros(n, dtype='float64')\n",
    "grad = np.zeros(dim*n, dtype='float64')\n",
    "\n",
    "cnf_dev = to_gpu(cnf)\n",
    "grad_dev = to_gpu(grad)\n",
    "pt_dev = to_gpu(pt)"
   ]
  },
  {
   "cell_type": "code",
   "execution_count": null,
   "metadata": {},
   "outputs": [],
   "source": [
    "def gaussian_gpu(cnf, pt_dev, cnf_dev, c_dev, n):\n",
    "    blocksize = 256\n",
    "    numblocks = int(((n + blocksize - 1) // blocksize)[0])\n",
    "    cnf_dev.set(cnf)\n",
    "    energy(pt_dev, cnf_dev, c_dev, n, block=(blocksize,1,1), grid=(numblocks,1))\n",
    "    pt_dev.get(pt)\n",
    "    return pt.sum()\n",
    "\n",
    "def gaussian_gpu_grad(cnf, grad_dev, cnf_dev, c_dev, n):\n",
    "    blocksize = 256\n",
    "    numblocks = int(((n + blocksize - 1) // blocksize)[0])\n",
    "    cnf_dev.set(cnf)\n",
    "    gradient(grad_dev, cnf_dev, c_dev, n, block=(blocksize,1,1), grid=(numblocks,1))\n",
    "#     pt_dev.get(pt)\n",
    "    return grad_dev.get()"
   ]
  },
  {
   "cell_type": "code",
   "execution_count": null,
   "metadata": {},
   "outputs": [],
   "source": [
    "(\n",
    "    np.abs(ens.sum()-gaussian_scp(cnf, 4.0, dim)),\n",
    "    norm(grad - gaussian_scp_grad(cnf, 4.0, 3) )\n",
    ")"
   ]
  },
  {
   "cell_type": "markdown",
   "metadata": {},
   "source": [
    "# Optimization"
   ]
  },
  {
   "cell_type": "markdown",
   "metadata": {},
   "source": [
    "## Initialize and define bounds"
   ]
  },
  {
   "cell_type": "markdown",
   "metadata": {},
   "source": [
    "CPU:"
   ]
  },
  {
   "cell_type": "code",
   "execution_count": null,
   "metadata": {},
   "outputs": [],
   "source": [
    "C = 8.\n",
    "dim = 3\n",
    "numvars = 1000\n",
    "u = np.random.random((numvars,dim))\n",
    "u = u.flatten()\n",
    "# Bounds\n",
    "lb = np.zeros_like(u)\n",
    "ub = np.ones_like(u)\n",
    "bnds = tuple([(lb[i],ub[i]) for i in range(numvars*dim) ])"
   ]
  },
  {
   "cell_type": "markdown",
   "metadata": {},
   "source": [
    "---"
   ]
  },
  {
   "cell_type": "markdown",
   "metadata": {},
   "source": [
    "Pycuda:"
   ]
  },
  {
   "cell_type": "code",
   "execution_count": null,
   "metadata": {},
   "outputs": [],
   "source": [
    "# execute this cell to change parameters; \n",
    "c = 40\n",
    "n = 10000\n",
    "dim = 3\n",
    "\n",
    "c = c * np.ones(1, dtype='float64')\n",
    "n = n*np.ones(1,dtype='uint32')\n",
    "c_dev = to_gpu(c)\n",
    "n_dev = to_gpu(n)\n",
    "\n",
    "cnf = np.random.random(dim*n)\n",
    "pt = np.zeros(n, dtype='float64')\n",
    "grad = np.zeros(dim*n, dtype='float64')\n",
    "\n",
    "cnf_dev = to_gpu(cnf)\n",
    "grad_dev = to_gpu(grad)\n",
    "pt_dev = to_gpu(pt)\n",
    "\n",
    "# Bounds\n",
    "lb = np.zeros_like(cnf)\n",
    "ub = np.ones_like(cnf)\n",
    "bnds = tuple([(lb[i],ub[i]) for i in range(n[0]*dim) ])"
   ]
  },
  {
   "cell_type": "markdown",
   "metadata": {},
   "source": [
    "## SciPy"
   ]
  },
  {
   "cell_type": "markdown",
   "metadata": {},
   "source": [
    "CPU:"
   ]
  },
  {
   "cell_type": "code",
   "execution_count": null,
   "metadata": {},
   "outputs": [],
   "source": [
    "scpres = minimize(lambda X: gaussian_scp(X, C, dim), u,\n",
    "                  jac=lambda X: gaussian_scp_grad(X, C, dim), method='L-BFGS-B',\n",
    "            bounds=bnds)\n",
    "scpres.fun"
   ]
  },
  {
   "cell_type": "markdown",
   "metadata": {},
   "source": [
    "Pycuda evaluation:"
   ]
  },
  {
   "cell_type": "code",
   "execution_count": null,
   "metadata": {},
   "outputs": [],
   "source": [
    "scpres = minimize(lambda X: gaussian_gpu(X, pt_dev, cnf_dev, c_dev, n), \n",
    "             cnf, jac=lambda X: gaussian_gpu_grad(X, grad_dev, cnf_dev, c_dev, n), method='L-BFGS-B',\n",
    "            bounds=bnds)\n",
    "scpres.fun"
   ]
  },
  {
   "cell_type": "markdown",
   "metadata": {},
   "source": [
    "## Ipopt"
   ]
  },
  {
   "cell_type": "markdown",
   "metadata": {},
   "source": [
    "CPU:"
   ]
  },
  {
   "cell_type": "code",
   "execution_count": null,
   "metadata": {},
   "outputs": [],
   "source": [
    "res = minimize_ipopt(lambda X: gaussian_scp(X, C, dim), u, jac=lambda X: gaussian_scp_grad(X, C, dim),\n",
    "                     bounds=bnds, options={'maxiter': 1000}) \n",
    "res.fun, res.success"
   ]
  },
  {
   "cell_type": "markdown",
   "metadata": {},
   "source": [
    "Pycuda evaluation:"
   ]
  },
  {
   "cell_type": "code",
   "execution_count": null,
   "metadata": {},
   "outputs": [],
   "source": [
    "res = minimize(lambda X: gaussian_gpu(X, pt_dev, cnf_dev, c_dev, n), \n",
    "             cnf, jac=lambda X: gaussian_gpu_grad(X, grad_dev, cnf_dev, c_dev, n),\n",
    "            bounds=bnds, options={'maxiter': 1000})\n",
    "res.fun, res.success"
   ]
  },
  {
   "cell_type": "markdown",
   "metadata": {},
   "source": [
    "---"
   ]
  },
  {
   "cell_type": "markdown",
   "metadata": {},
   "source": [
    "## NLopt"
   ]
  },
  {
   "cell_type": "code",
   "execution_count": null,
   "metadata": {},
   "outputs": [],
   "source": [
    "# Initialize the solver\n",
    "opt = nlopt.opt(nlopt.LD_LBFGS, np.size(u))\n",
    "opt.set_lower_bounds(lb)\n",
    "opt.set_upper_bounds(ub)\n",
    "opt.set_min_objective(lambda x,v: gaussian(x,v, C, dim))\n",
    "opt.set_ftol_rel(1e-10)\n",
    "# Invoke NLopt\n",
    "x = opt.optimize(u)\n",
    "minf = opt.last_optimum_value()"
   ]
  },
  {
   "cell_type": "markdown",
   "metadata": {},
   "source": [
    "---"
   ]
  },
  {
   "cell_type": "code",
   "execution_count": null,
   "metadata": {},
   "outputs": [],
   "source": [
    "res"
   ]
  },
  {
   "cell_type": "code",
   "execution_count": null,
   "metadata": {},
   "outputs": [],
   "source": [
    "pplot(res.x,dim)"
   ]
  },
  {
   "cell_type": "markdown",
   "metadata": {},
   "source": [
    "## Clustering"
   ]
  },
  {
   "cell_type": "code",
   "execution_count": null,
   "metadata": {},
   "outputs": [],
   "source": [
    "#Counts multiplicity of occurances in an array upto set precision, returns a list\n",
    "def multiplicity_array(flat_vector_array,precision,dim):\n",
    "    vector_array = flat_vector_array.reshape((-1,dim))\n",
    "    hash_vector_array = map(tuple,np.round(vector_array,precision))\n",
    "    counter = collections.Counter(hash_vector_array)\n",
    "    return counter.most_common()\n",
    "\n",
    "\n",
    "#initial test for \n",
    "#X3count = res.x.reshape((-1,dim))\n",
    "precision=6\n",
    "#X3counthash=map(str,np.round(X3count,precision))\n",
    "#counter=collections.Counter(X3counthash)\n",
    "\n",
    "#print(len(np.round(X3count,precision)),len(counter))\n",
    "#counter"
   ]
  },
  {
   "cell_type": "code",
   "execution_count": null,
   "metadata": {},
   "outputs": [],
   "source": [
    "%%timeit\n",
    "m = multiplicity_array(res.x, 6 ,3)"
   ]
  },
  {
   "cell_type": "code",
   "execution_count": null,
   "metadata": {},
   "outputs": [],
   "source": [
    "%%timeit\n",
    "mm, nn = np.unique(np.round(res.x, precision).reshape((-1,dim)), axis=0, return_counts=True)"
   ]
  },
  {
   "cell_type": "markdown",
   "metadata": {},
   "source": [
    "## Lattice initialization"
   ]
  },
  {
   "cell_type": "code",
   "execution_count": null,
   "metadata": {},
   "outputs": [],
   "source": [
    "# Generators\n",
    "genbcc = np.array([[1., 1., -1.],[-1., 1., 1.],[1., -1., 1.]])\n",
    "genfcc = np.array([[1., 1., 0.],[0., 1., 1.],[1., 0., 1.]])"
   ]
  },
  {
   "cell_type": "markdown",
   "metadata": {},
   "source": [
    "### Make bcc"
   ]
  },
  {
   "cell_type": "code",
   "execution_count": null,
   "metadata": {},
   "outputs": [],
   "source": [
    "n = 100  # number of pts per side\n",
    "A = 1.\n",
    "a = b = c = np.linspace(0., A, n)\n",
    "mesh = np.meshgrid(a,b,c)\n",
    "zlattice = np.vstack((mesh[0].flatten(), mesh[1].flatten(), mesh[2].flatten())).T\n",
    "del mesh\n",
    "\n",
    "latticebcc = np.vstack((zlattice+ A/(2*(n-1)), zlattice))\n",
    "\n",
    "inclusion = np.all(np.logical_and(latticebcc>=.0,  latticebcc <=1.), axis=1)\n",
    "latticebcc = latticebcc[inclusion,:]\n",
    "# pplot(latticebcc, 3)\n",
    "# lattice.shape"
   ]
  },
  {
   "cell_type": "code",
   "execution_count": null,
   "metadata": {},
   "outputs": [],
   "source": [
    "latticebcc.shape"
   ]
  },
  {
   "cell_type": "code",
   "execution_count": null,
   "metadata": {},
   "outputs": [],
   "source": []
  },
  {
   "cell_type": "markdown",
   "metadata": {},
   "source": [
    "### Make fcc"
   ]
  },
  {
   "cell_type": "code",
   "execution_count": null,
   "metadata": {},
   "outputs": [],
   "source": [
    "n = 2  # number of pts per side\n",
    "A = 1.\n",
    "a = b = c = np.linspace(0., A, n)\n",
    "mesh = np.meshgrid(a,b,c)\n",
    "zlattice = np.vstack((mesh[0].flatten(), mesh[1].flatten(), mesh[2].flatten())).T\n",
    "del mesh\n",
    "\n",
    "genfcc = A*np.array([[1., 1., 0.],[0., 1., 1.],[1., 0., 1.]])/(2*(n-1))\n",
    "latticefcc = np.vstack(( zlattice + genfcc[0,:], zlattice + genfcc[1,:], zlattice + genfcc[2,:] ))\n",
    "\n",
    "inclusion = np.all(np.logical_and(latticefcc>=.0,  latticefcc <=1.), axis=1)\n",
    "latticefcc = np.vstack((zlattice, latticefcc[inclusion,:]))\n",
    "pplot(latticefcc, 3)\n",
    "# lattice.shape"
   ]
  }
 ],
 "metadata": {
  "kernelspec": {
   "display_name": "Python 3",
   "language": "python",
   "name": "python3"
  },
  "language_info": {
   "codemirror_mode": {
    "name": "ipython",
    "version": 3
   },
   "file_extension": ".py",
   "mimetype": "text/x-python",
   "name": "python",
   "nbconvert_exporter": "python",
   "pygments_lexer": "ipython3",
   "version": "3.6.6"
  },
  "toc": {
   "nav_menu": {
    "height": "394px",
    "width": "667px"
   },
   "number_sections": true,
   "sideBar": true,
   "skip_h1_title": false,
   "title_cell": "Table of Contents",
   "title_sidebar": "Contents",
   "toc_cell": false,
   "toc_position": {
    "height": "calc(100% - 180px)",
    "left": "10px",
    "top": "150px",
    "width": "165px"
   },
   "toc_section_display": true,
   "toc_window_display": true
  },
  "varInspector": {
   "cols": {
    "lenName": 16,
    "lenType": 16,
    "lenVar": 40
   },
   "kernels_config": {
    "python": {
     "delete_cmd_postfix": "",
     "delete_cmd_prefix": "del ",
     "library": "var_list.py",
     "varRefreshCmd": "print(var_dic_list())"
    },
    "r": {
     "delete_cmd_postfix": ") ",
     "delete_cmd_prefix": "rm(",
     "library": "var_list.r",
     "varRefreshCmd": "cat(var_dic_list()) "
    }
   },
   "position": {
    "height": "527px",
    "left": "1329px",
    "right": "49px",
    "top": "48px",
    "width": "350px"
   },
   "types_to_exclude": [
    "module",
    "function",
    "builtin_function_or_method",
    "instance",
    "_Feature"
   ],
   "window_display": false
  }
 },
 "nbformat": 4,
 "nbformat_minor": 2
}
